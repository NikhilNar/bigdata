{
 "cells": [
  {
   "cell_type": "code",
   "execution_count": 46,
   "metadata": {},
   "outputs": [],
   "source": [
    "from pyspark.sql import SQLContext, Row\n",
    "from pyspark.ml.feature import CountVectorizer\n",
    "from pyspark.mllib.clustering import LDA, LDAModel\n",
    "from pyspark.mllib.linalg import Vector, Vectors"
   ]
  },
  {
   "cell_type": "code",
   "execution_count": 51,
   "metadata": {},
   "outputs": [],
   "source": [
    "path = \"/user/ncn251/cookbook_text1.zip\"\n",
    "\n",
    "def zip_extract(x):\n",
    "    in_memory_data = io.BytesIO(x[1])\n",
    "    file_obj = zipfile.ZipFile(in_memory_data, \"r\")\n",
    "    files = [i for i in file_obj.namelist()]\n",
    "    return [file_obj.open(file).read() for file in files]\n",
    "\n",
    "zips=sc.binaryFiles(path,100)\n",
    "zipData=sc.parallelize(zips.map(zip_extract).collect(),100)\n",
    "\n",
    "data = zipData.zipWithIndex().map(lambda words: Row(idd=words[1],words=words[0].split(\" \")))\n"
   ]
  },
  {
   "cell_type": "code",
   "execution_count": 52,
   "metadata": {},
   "outputs": [],
   "source": [
    "docDF = spark.createDataFrame(data)\n",
    "Vector = CountVectorizer(inputCol=\"words\", outputCol=\"vectors\")\n",
    "model = Vector.fit(docDF)\n",
    "result = model.transform(docDF)\n"
   ]
  },
  {
   "cell_type": "code",
   "execution_count": 53,
   "metadata": {},
   "outputs": [
    {
     "data": {
      "text/plain": [
       "PythonRDD[793] at RDD at PythonRDD.scala:48"
      ]
     },
     "execution_count": 53,
     "metadata": {},
     "output_type": "execute_result"
    }
   ],
   "source": [
    "corpus = result.select(\"idd\", \"vectors\").rdd.map(lambda x: [x[0],Vectors.fromML(x[1])]).cache()\n",
    "corpus"
   ]
  },
  {
   "cell_type": "code",
   "execution_count": 54,
   "metadata": {},
   "outputs": [],
   "source": [
    "# Cluster the documents into three topics using LDA\n",
    "ldaModel = LDA.train(corpus, k=3,maxIterations=100,optimizer='online')\n",
    "topics = ldaModel.topicsMatrix()\n",
    "vocabArray = model.vocabulary"
   ]
  },
  {
   "cell_type": "code",
   "execution_count": 55,
   "metadata": {},
   "outputs": [],
   "source": [
    "wordNumbers = 100 # number of words per topic\n",
    "topicIndices = sc.parallelize(ldaModel.describeTopics(maxTermsPerTopic = wordNumbers))\n"
   ]
  },
  {
   "cell_type": "code",
   "execution_count": 56,
   "metadata": {},
   "outputs": [],
   "source": [
    "def topic_render(topic):  # specify vector id of words to actual words\n",
    "    terms = topic[0]\n",
    "    result = []\n",
    "    for i in range(wordNumbers):\n",
    "        term = vocabArray[terms[i]]\n",
    "        result.append(term)\n",
    "    return result\n"
   ]
  },
  {
   "cell_type": "code",
   "execution_count": 57,
   "metadata": {},
   "outputs": [],
   "source": [
    "topics_final = topicIndices.map(lambda topic: topic_render(topic)).collect()"
   ]
  },
  {
   "cell_type": "code",
   "execution_count": 61,
   "metadata": {},
   "outputs": [
    {
     "name": "stdout",
     "output_type": "stream",
     "text": [
      "Topic0:\n",
      "['.', 'he', 'his', 'was', 'I', 'had', 'her', 'she', 'my', 'said', 'were', '', 'old', 'their', 'him', 'S', 'the', 'who', 'He', 'man', 'me', 'that', 'how', 'young', 'Zuñi', 'our', 'shall', 'we', 'to', 'came', 'did', 'Mary', 'what', 'thought', 'you', 'would', 'see', 'went', 'could', 'thou', 'people', 'him,', 'woman', 'but', 'down', 'told', 'tell', '\"I', 'yet', 'She', 'house', 'of', 'toward', 'women', 'men', 'he,', 'thy', 'began', 'poor', 'ancient', 'might', 'And', 'youth', 'us', 'took', 'and', 'for', 'grew', 'heard', 'looked', 'like', 'saw', 'sat', 'boy', 'am', 'at', 'great', 'go', 'corn', 'man,', 'know', 'himself', 'girl', 'forth', 'father', 'gave', 'ever', 'knew', 'asked', 'deer', 'home', 'hunter', 'So', 'ye', 'Time.', '\"', 'me,', 'they', 'brought', 'by']\n",
      "\n",
      "\n",
      "Topic1:\n",
      "['', '&#160;', '1', '-', '\"', '&#224;', 'la', '--', 'de', '2', 'AND', 'No.', '.....', 'OF', 'or', 'of,', 'for', '3', 'A', 'Cream', 'To', 'Fruit', 'TO', 'WITH', '4', 'FOR', '1/2', 'Sauce', 'au', 'with', 'See', 'LA', 'Bread', 'Baked', 'OR', 'Stewed', 'Boiled', 'Roast', 'Soup', 'White', 'MRS.', 'Coffee', 'THE', 'Apple', 'aux', 'Rice', '6', 'NO.', 'Chicken', 'Potato', 'SAUCE', '&#32;', 'Mrs.', 'Corn', 'Beef', '1/4', 'Sauce,', 'lb.', 'Lemon', 'Tomato', 'French', 'Fried', 'Pudding.', 'M', 'Graham', 'Green', 'Pudding,', '(', 'BREAKFAST', '5', 'salad', '8', 'Fresh', 'en', 'Sweet', 'DINNER', 'Broiled', 'Fish', '30', 'Soup,', 'et', 'Sauce.', '20', 'Eggs', '10', 'Orange', '&#192;', 'potatoes', 'Pudding', 'Cake', 'CREAM', '..', 'see', 'CAKE.', 'Egg', ',', 'IN', 'Salt', 'Salad', 'sauce']\n",
      "\n",
      "\n",
      "Topic2:\n",
      "['', 'the', 'and', 'of', 'a', 'in', 'to', 'with', 'it', 'is', 'or', 'be', 'as', 'for', 'one', 'them', 'into', 'on', 'are', 'two', 'then', 'add', 'from', 'put', 'an', 'that', 'over', 'not', 'half', 'will', 'little', 'which', 'when', 'by', 'this', 'The', 'all', 'very', 'until', 'water', 'they', 'at', 'should', 'three', 'cut', 'may', 'have', 'but', 'some', 'cup', 'small', 'pound', 'if', 'well', 'you', 'cold', 'butter', 'hot', 'water,', 'let', 'boil', 'up', 'out', 'pint', 'boiling', '1', 'sugar', 'more', 'pour', 'sugar,', 'salt', 'four', 'When', 'each', 'make', 'about', 'large', 'made', 'so', 'take', 'butter,', 'white', 'before', 'has', 'salt,', 'stir', 'can', 'cover', 'good', 'off', 'flour', 'eggs', 'It', 'same', 'their', 'through', 'Put', 'teaspoonful', 'than', 'place']\n",
      "\n",
      "\n"
     ]
    }
   ],
   "source": [
    "for topic in range(len(topics_final)):\n",
    "    print (\"Topic\" + str(topic) + \":\")\n",
    "    print(topics_final[topic])\n",
    "#     for term in topics_final[topic]:\n",
    "#         print (term)\n",
    "    print ('\\n')"
   ]
  },
  {
   "cell_type": "code",
   "execution_count": 60,
   "metadata": {},
   "outputs": [],
   "source": []
  },
  {
   "cell_type": "code",
   "execution_count": null,
   "metadata": {},
   "outputs": [],
   "source": []
  }
 ],
 "metadata": {
  "kernelspec": {
   "display_name": "Python 3",
   "language": "python",
   "name": "python3"
  },
  "language_info": {
   "codemirror_mode": {
    "name": "ipython",
    "version": 3
   },
   "file_extension": ".py",
   "mimetype": "text/x-python",
   "name": "python",
   "nbconvert_exporter": "python",
   "pygments_lexer": "ipython3",
   "version": "3.6.4"
  }
 },
 "nbformat": 4,
 "nbformat_minor": 2
}
